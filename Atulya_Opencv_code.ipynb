{
  "nbformat": 4,
  "nbformat_minor": 0,
  "metadata": {
    "colab": {
      "name": "Atulya_Opencv_code.ipynb",
      "provenance": [],
      "collapsed_sections": [],
      "authorship_tag": "ABX9TyPcaHwiw4gp6uNInbbN+9/t",
      "include_colab_link": true
    },
    "kernelspec": {
      "name": "python3",
      "display_name": "Python 3"
    },
    "language_info": {
      "name": "python"
    }
  },
  "cells": [
    {
      "cell_type": "markdown",
      "metadata": {
        "id": "view-in-github",
        "colab_type": "text"
      },
      "source": [
        "<a href=\"https://colab.research.google.com/github/kamlesh-ops/KamleshSahoo_21JE0444_OpenCV/blob/main/Atulya_Opencv_code.ipynb\" target=\"_parent\"><img src=\"https://colab.research.google.com/assets/colab-badge.svg\" alt=\"Open In Colab\"/></a>"
      ]
    },
    {
      "cell_type": "code",
      "execution_count": null,
      "metadata": {
        "id": "3RbP-yikOu7k"
      },
      "outputs": [],
      "source": [
        "#Importing all necessary libraries\n",
        "\n",
        "import cv2\n",
        "import numpy as np\n",
        "import cv2.aruco as aruco #Less required here\n",
        "\n",
        "# Linking drive with colab to import files\n",
        "\n",
        "from google.colab import drive\n",
        "from google.colab.patches import cv2_imshow\n",
        "\n",
        "drive.mount('/content/drive') # To mount the drive locally\n",
        "\n",
        "path=\"/content/drive/My Drive/Atulya_Opencv/CVtask.jpg\" #Path for the file containing images\n",
        "\n",
        "img=cv2.imread(path) \n",
        "print(img.shape)\n",
        "\n",
        "r_img=cv2.resize(img,(0,0),fx=0.5,fy=0.5) #Making the image half of its size by using aspect ratio\n",
        "\n",
        "cv2_imshow(r_img)  #To print the image\n",
        "print(r_img.shape)  "
      ]
    },
    {
      "cell_type": "code",
      "source": [
        "#Next we have to extract contours from the image\n",
        "\n",
        "#For the purpose, firstly we convert the BGR image into Grayscale\n",
        "gray_img = cv2.cvtColor(r_img,cv2.COLOR_RGB2GRAY)\n",
        "cv2_imshow(gray_img)\n",
        "print(gray_img.shape)\n"
      ],
      "metadata": {
        "id": "MeXQAcm5Rcj9"
      },
      "execution_count": null,
      "outputs": []
    },
    {
      "cell_type": "code",
      "source": [
        "#Next,Edge detection is performed using Canny function.\n",
        "\n",
        "canny=cv2.Canny(gray_img,30,150)\n",
        "cv2_imshow(canny)\n"
      ],
      "metadata": {
        "id": "pNFfPue3Ucot"
      },
      "execution_count": null,
      "outputs": []
    },
    {
      "cell_type": "code",
      "source": [
        "# gray=cv2.cvtColor(r_img,cv2.COLOR_BGR2GRAY)\n",
        "\n",
        "#Find the contours from the canny image\n",
        "cont,hier = cv2.findContours(canny,cv2.RETR_LIST,cv2.CHAIN_APPROX_SIMPLE) #The function returns two values, cont(contour) and hier(hierarchy)\n",
        "\n",
        "# Next, we perform shape detection after approximating the contour\n",
        "\n",
        "wid=[] #List defined to store width of Image\n",
        "ht=[] #List defined to store height(other dimension) of image\n",
        "x_crd=[] #List to store x-coordinates of pivotal points in each detected shape\n",
        "y_crd=[] #List to store y-coordinates of pivotal points in each detected shape\n",
        "\n",
        "for cnt in cont:  #Takes up a contour one by one\n",
        "  approx = cv2.approxPolyDP(cnt,0.01*cv2.arcLength(cnt,True),True) #Function approximates the contour to least no.of points so that image can be best identified\n",
        "  print(len(approx))\n",
        "\n",
        "  if len(approx)==4: #We are required to detect quadrilaterals, more specifically squares.\n",
        "    cv2.drawContours(r_img,[cnt],-1,(255,0,0),2)\n",
        "    x,y,w,h = cv2.boundingRect(cnt) # Defines the best possible rectangle that can approximate the image.\n",
        "    # x=X-cordinate of pivot point\n",
        "    # y=Y-coordinate of pivot point\n",
        "    # w=width of Image\n",
        "    # h=height of image(other dimension) \n",
        "\n",
        "    wid.append(w)\n",
        "    ht.append(h)\n",
        "    x_crd.append(x)\n",
        "    y_crd.append(y)\n",
        "\n",
        "cv2_imshow(r_img)\n",
        "\n",
        "print(wid)\n",
        "print(ht)\n",
        "print(x_crd)\n",
        "print(y_crd)\n",
        "\n",
        "# In the output it is observed that wid[0]!=ht[0] and wid[2]!=ht[2]. This implies they refer to the trapeziums.\n",
        "# Also the value of width an height at indices 4,6,8,10 are equal respectively which correspond to detected squares. \n",
        "# On more careful observation, the values of widths/heights can be arranged in ascending order corresponding to the squares.\n",
        "\n",
        "# wid[4]=ht[4] corresponds to orange square\n",
        "# wid[6]=ht[6] corresponds to pink-peach square\n",
        "# wid[8]=ht[8] corresponds to black square\n",
        "# wid[10]=ht[10] corresponds to Green square\n"
      ],
      "metadata": {
        "id": "VY7VqYrjtLkX"
      },
      "execution_count": null,
      "outputs": []
    },
    {
      "cell_type": "code",
      "source": [
        "# Displays all contours in a single screen\n",
        "blank=np.zeros(r_img.shape,np.uint8)\n",
        "cv2.drawContours(blank,cont,-1,(255,0,0),2)\n",
        "cv2_imshow(blank)\n",
        "cv2.waitKey(0)\n",
        "cv2.destroyAllWindows()"
      ],
      "metadata": {
        "id": "wyfUytt7cyKn"
      },
      "execution_count": null,
      "outputs": []
    },
    {
      "cell_type": "code",
      "source": [
        "# store a copy of r_img for further use\n",
        "r_img0=r_img.copy()\n",
        "cv2_imshow(r_img0)"
      ],
      "metadata": {
        "id": "tlFgYAUAkbRt"
      },
      "execution_count": null,
      "outputs": []
    },
    {
      "cell_type": "code",
      "source": [
        "#importing aruco with ID2\n",
        "path_ID2 = \"/content/drive/My Drive/Atulya_Opencv/XD.jpg\"\n",
        "img2 = cv2.imread(path_ID2)\n",
        "print(img2.shape)\n",
        "r_img2=cv2.resize(img2,(wid[4],ht[4])) #resize aruco to fit the square\n",
        "cv2_imshow(r_img2)\n",
        "print(r_img2.shape)\n",
        "\n",
        "#importing aruco with ID1\n",
        "path_ID1 = \"/content/drive/My Drive/Atulya_Opencv/LMAO.jpg\"\n",
        "img1 = cv2.imread(path_ID1)\n",
        "print(img1.shape)\n",
        "r_img1=cv2.resize(img1,(wid[10],ht[10])) #resize aruco to fit the square\n",
        "cv2_imshow(r_img1)\n",
        "print(r_img1.shape)\n",
        "\n",
        "#importing aruco with ID3\n",
        "path_ID3 = \"/content/drive/My Drive/Atulya_Opencv/Ha.jpg\"\n",
        "img3 = cv2.imread(path_ID3)\n",
        "print(img3.shape)\n",
        "r_img3=cv2.resize(img3,(wid[8],ht[8])) #resize aruco to fit the square\n",
        "cv2_imshow(r_img3)\n",
        "print(r_img3.shape)\n",
        "\n",
        "#importing aruco with ID4\n",
        "path_ID4 = \"/content/drive/My Drive/Atulya_Opencv/HaHa.jpg\"\n",
        "img4 = cv2.imread(path_ID4)\n",
        "print(img4.shape)\n",
        "r_img4=cv2.resize(img4,(wid[6],ht[6])) #resize aruco to fit the square\n",
        "cv2_imshow(r_img4)\n",
        "print(r_img4.shape)\n"
      ],
      "metadata": {
        "id": "kP3yj1c4todP"
      },
      "execution_count": null,
      "outputs": []
    },
    {
      "cell_type": "code",
      "source": [
        "# Next we have to paste the markers on the boxes corresponding to their ids provided.\n",
        "\n",
        "#For pink peach\n",
        "x_offset4, y_offset4 = x_crd[6], y_crd[6]\n",
        "x_end4, y_end4=x_offset4+wid[6],y_offset4+ht[6]\n",
        "r_img0[y_offset4:y_end4, x_offset4:x_end4] = r_img4\n",
        "cv2_imshow(r_img0)\n",
        "\n",
        "#For orange\n",
        "x_offset2, y_offset2= x_crd[4], y_crd[4]\n",
        "x_end2, y_end2 = x_offset2+wid[4], y_offset2+ht[4]\n",
        "r_img0[x_offset2:x_end2, y_offset2:y_end2] = r_img2\n",
        "cv2_imshow(r_img0)\n",
        "\n",
        "#For Green\n",
        "x_offset1, y_offset1 = x_crd[10], y_crd[10]\n",
        "x_end1, y_end1 = x_offset1+wid[10], y_offset1+ht[10]\n",
        "r_img0[x_offset1:x_end1, y_offset1:y_end1] = r_img1\n",
        "cv2_imshow(r_img0)\n",
        "\n",
        "#For Black\n",
        "x_offset3, y_offset3 = x_crd[8], y_crd[8]\n",
        "x_end3, y_end3 = x_offset3+wid[8], y_offset3+ht[8]\n",
        "r_img0[x_offset3:x_end3, y_offset3:y_end3] = r_img3\n",
        "cv2_imshow(r_img0)\n"
      ],
      "metadata": {
        "id": "tWjacReowkO2"
      },
      "execution_count": null,
      "outputs": []
    }
  ]
}